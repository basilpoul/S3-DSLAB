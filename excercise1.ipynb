{
 "cells": [
  {
   "cell_type": "code",
   "execution_count": 2,
   "id": "46cb3b46",
   "metadata": {},
   "outputs": [],
   "source": [
    "import numpy as np"
   ]
  },
  {
   "cell_type": "code",
   "execution_count": 2,
   "id": "62560520",
   "metadata": {},
   "outputs": [
    {
     "name": "stdout",
     "output_type": "stream",
     "text": [
      "Fahreheit values :  [ 32  68 104 212]\n",
      "Celsius values :  [  0.  20.  40. 100.]\n"
     ]
    }
   ],
   "source": [
    "fahrenheit = np.array([32, 68, 104,212])\n",
    "celsius = (fahrenheit - 32) * 5.0 / 9.0\n",
    "print(\"Fahreheit values : \",fahrenheit)\n",
    "print(\"Celsius values : \",celsius)"
   ]
  },
  {
   "cell_type": "code",
   "execution_count": 3,
   "id": "64d6b5d9",
   "metadata": {},
   "outputs": [
    {
     "name": "stdout",
     "output_type": "stream",
     "text": [
      "Average :0.5018719314999026\n",
      "Variance :0.08166066130841756\n",
      "Standard Deviation :0.28576329594336913\n"
     ]
    }
   ],
   "source": [
    "random_array = np.random.rand(1000)\n",
    "\n",
    "print(f\"Average :{np.mean(random_array)}\")\n",
    "print(f\"Variance :{np.var(random_array)}\")\n",
    "print(f\"Standard Deviation :{np.std(random_array)}\")\n"
   ]
  },
  {
   "cell_type": "code",
   "execution_count": 5,
   "id": "53ee7f97",
   "metadata": {},
   "outputs": [
    {
     "name": "stdout",
     "output_type": "stream",
     "text": [
      "Angles in degrees:  [12 30 45 60 90]\n",
      "Angles in radians:  [0.20943951 0.52359878 0.78539816 1.04719755 1.57079633]\n"
     ]
    }
   ],
   "source": [
    "angles= np.array([12, 30, 45, 60, 90])\n",
    "radians = angles * (np.pi / 180)\n",
    "print(\"Angles in degrees: \", angles)\n",
    "print(\"Angles in radians: \", radians)"
   ]
  },
  {
   "cell_type": "code",
   "execution_count": null,
   "id": "3975eada",
   "metadata": {},
   "outputs": [
    {
     "name": "stdout",
     "output_type": "stream",
     "text": [
      "Original array: [ 5 10 15 20 25]\n",
      "Difference between neighbouring elements: [5 5 5 5]\n"
     ]
    }
   ],
   "source": [
    "arr = np.array([5, 10, 15, 20, 25])\n",
    "diff = np.diff(arr)\n",
    "print(\"Original array:\", arr)\n",
    "print(\"Difference between neighbouring elements:\", diff)"
   ]
  },
  {
   "cell_type": "code",
   "execution_count": 17,
   "id": "419b8837",
   "metadata": {},
   "outputs": [
    {
     "name": "stdout",
     "output_type": "stream",
     "text": [
      "Original array: [2.+3.j 1.+2.j 2.+1.j 1.+1.j 3.+5.j]\n",
      "Sorted array: [1.+1.j 1.+2.j 2.+1.j 2.+3.j 3.+5.j]\n"
     ]
    }
   ],
   "source": [
    "arr = np.array([2+3j, 1+2j, 2+1j, 1+1j, 3+5j])\n",
    "\n",
    "sorted_arr = np.sort_complex(arr)\n",
    "\n",
    "print(\"Original array:\", arr)\n",
    "print(\"Sorted array:\", sorted_arr)\n"
   ]
  },
  {
   "cell_type": "code",
   "execution_count": null,
   "id": "0d938009",
   "metadata": {},
   "outputs": [
    {
     "name": "stdout",
     "output_type": "stream",
     "text": [
      "Original array: [ 2  7 10  2 10  4]\n",
      "Values greater than 4: [ 7 10 10]\n"
     ]
    }
   ],
   "source": [
    "arr = np.random.randint(1, 11, size=6)\n",
    "\n",
    "greater_than_4 = arr[arr > 4]\n",
    "\n",
    "print(\"Original array:\", arr)\n",
    "print(\"Values greater than 4:\", greater_than_4)\n"
   ]
  },
  {
   "cell_type": "code",
   "execution_count": 6,
   "id": "6030468f",
   "metadata": {},
   "outputs": [
    {
     "name": "stdout",
     "output_type": "stream",
     "text": [
      "Array: [14  7  9  8 15 19 13  5]\n",
      "Number 8 found at positions: [3]\n"
     ]
    }
   ],
   "source": [
    "arr = np.random.randint(0, 21, size=8)\n",
    "print(\"Array:\", arr)\n",
    "\n",
    "num = int(input(\"Enter the number to search for: \"))\n",
    "\n",
    "indices = np.where(arr == num)[0]\n",
    "\n",
    "if indices.size > 0:\n",
    "    print(f\"Number {num} found at positions: {indices}\")\n",
    "else:\n",
    "    print(f\"Number {num} not found in the array.\")"
   ]
  },
  {
   "cell_type": "code",
   "execution_count": null,
   "id": "22e94037",
   "metadata": {},
   "outputs": [
    {
     "name": "stdout",
     "output_type": "stream",
     "text": [
      "Original array:\n",
      "[[1 2 3]\n",
      " [4 5 6]]\n",
      "\n",
      "Loaded array:\n",
      "[[1. 2. 3.]\n",
      " [4. 5. 6.]]\n"
     ]
    }
   ],
   "source": [
    "arr = np.array([[1, 2, 3], [4, 5, 6]])\n",
    "\n",
    "np.savetxt('array.txt', arr, fmt='%d')\n",
    "loaded_arr = np.loadtxt('array.txt', dtype=int)\n",
    "\n",
    "print(\"Original array:\")\n",
    "print(arr)\n",
    "\n",
    "print(\"\\nLoaded array:\")\n",
    "print(loaded_arr)"
   ]
  },
  {
   "cell_type": "code",
   "execution_count": 10,
   "id": "1ea2d9a3",
   "metadata": {},
   "outputs": [
    {
     "name": "stdout",
     "output_type": "stream",
     "text": [
      "[30 32 34 36 38 40 42 44 46 48 50 52 54 56 58 60]\n"
     ]
    }
   ],
   "source": [
    "even_arr = np.arange(30, 61, 2)\n",
    "print(even_arr)"
   ]
  },
  {
   "cell_type": "code",
   "execution_count": 11,
   "id": "954a5301",
   "metadata": {},
   "outputs": [
    {
     "name": "stdout",
     "output_type": "stream",
     "text": [
      "Array:\n",
      " [[1 2 3]\n",
      " [4 5 6]\n",
      " [7 8 9]]\n",
      "Sum of all elements: 45\n",
      "Sum of each column: [12 15 18]\n",
      "Sum of each row: [ 6 15 24]\n"
     ]
    }
   ],
   "source": [
    "\n",
    "arr = np.array([[1, 2, 3],\n",
    "                [4, 5, 6],\n",
    "                [7, 8, 9]])\n",
    "total_sum = np.sum(arr)\n",
    "col_sum = np.sum(arr, axis=0)\n",
    "row_sum = np.sum(arr, axis=1)\n",
    "print(\"Array:\\n\", arr)\n",
    "print(\"Sum of all elements:\", total_sum)\n",
    "print(\"Sum of each column:\", col_sum)\n",
    "print(\"Sum of each row:\", row_sum)\n"
   ]
  },
  {
   "cell_type": "code",
   "execution_count": null,
   "id": "ecdd3273",
   "metadata": {
    "vscode": {
     "languageId": "javascript"
    }
   },
   "outputs": [
    {
     "name": "stdout",
     "output_type": "stream",
     "text": [
      "Original matrix:\n",
      " [[1 2 3]\n",
      " [4 5 6]\n",
      " [7 8 9]]\n",
      "Transposed matrix:\n",
      " [[1 4 7]\n",
      " [2 5 8]\n",
      " [3 6 9]]\n",
      "Trace of the matrix: 15\n"
     ]
    }
   ],
   "source": [
    "mat= np.array([[1, 2, 3],\n",
    "               [4, 5, 6],\n",
    "               [7, 8, 9]])\n",
    "mat_transpose = np.transpose(mat)\n",
    "print(\"Original matrix:\\n\", mat)\n",
    "print(\"Transposed matrix:\\n\", mat_transpose)\n",
    "tra=np.trace(mat)\n",
    "print(\"Trace of the matrix:\", tra)"
   ]
  },
  {
   "cell_type": "code",
   "execution_count": null,
   "id": "c5f20362",
   "metadata": {
    "vscode": {
     "languageId": "javascript"
    }
   },
   "outputs": [
    {
     "name": "stdout",
     "output_type": "stream",
     "text": [
      "Result of matrix multiplication:\n",
      " [[ 30  24  18]\n",
      " [ 84  69  54]\n",
      " [138 114  90]]\n"
     ]
    }
   ],
   "source": [
    "mat1=np.array([[1,2,3],\n",
    "                [4,5,6],\n",
    "                [7,8,9]])\n",
    "\n",
    "mat2=np.array([[9,8,7],\n",
    "                [6,5,4],\n",
    "                [3,2,1]])\n",
    "\n",
    "mat_product=np.dot(mat1, mat2)\n",
    "print(\"Result of matrix multiplication:\\n\", mat_product)\n"
   ]
  },
  {
   "cell_type": "code",
   "execution_count": 14,
   "id": "1b3743c5",
   "metadata": {},
   "outputs": [
    {
     "name": "stdout",
     "output_type": "stream",
     "text": [
      "Inverse of the matrix:\n",
      " [[-0.88888889 -0.11111111  0.33333333]\n",
      " [-0.05555556  0.30555556 -0.16666667]\n",
      " [ 0.66666667 -0.16666667  0.        ]]\n",
      "Rank of the matrix: 3\n"
     ]
    }
   ],
   "source": [
    "mat3=np.array([[1,2,3],\n",
    "                [4,8,6],\n",
    "                [7,8,10]])\n",
    "\n",
    "mat_inverse=np.linalg.inv(mat3)\n",
    "print(\"Inverse of the matrix:\\n\", mat_inverse)\n",
    "print(\"Rank of the matrix:\", np.linalg.matrix_rank(mat3))"
   ]
  },
  {
   "cell_type": "code",
   "execution_count": 15,
   "id": "73892e54",
   "metadata": {},
   "outputs": [
    {
     "name": "stdout",
     "output_type": "stream",
     "text": [
      "Eigenvalues of the matrix:\n",
      " [18.08711725 -0.91794244  2.8308252 ]\n",
      "Eigenvectors of the matrix:\n",
      " [[-0.20593783 -0.84935244  0.21192083]\n",
      " [-0.60070671  0.02355406 -0.74851659]\n",
      " [-0.77249016  0.52730033  0.62834106]]\n"
     ]
    }
   ],
   "source": [
    "mat4= np.array([[1, 2, 3],\n",
    "                [4, 9, 6],\n",
    "                [7, 8, 10]])\n",
    "\n",
    "eigenvalues, eigenvectors = np.linalg.eig(mat4)\n",
    "print(\"Eigenvalues of the matrix:\\n\", eigenvalues)\n",
    "print(\"Eigenvectors of the matrix:\\n\", eigenvectors)"
   ]
  }
 ],
 "metadata": {
  "kernelspec": {
   "display_name": "Python 3",
   "language": "python",
   "name": "python3"
  },
  "language_info": {
   "codemirror_mode": {
    "name": "ipython",
    "version": 3
   },
   "file_extension": ".py",
   "mimetype": "text/x-python",
   "name": "python",
   "nbconvert_exporter": "python",
   "pygments_lexer": "ipython3",
   "version": "3.12.0"
  }
 },
 "nbformat": 4,
 "nbformat_minor": 5
}
