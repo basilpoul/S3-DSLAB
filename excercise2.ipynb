{
 "cells": [
  {
   "cell_type": "code",
   "execution_count": 5,
   "id": "8d659b37",
   "metadata": {},
   "outputs": [
    {
     "name": "stdout",
     "output_type": "stream",
     "text": [
      "Requirement already satisfied: numpy<2 in c:\\users\\cacet\\appdata\\local\\programs\\python\\python312\\lib\\site-packages (1.26.4)\n",
      "Requirement already satisfied: matplotlib in c:\\users\\cacet\\appdata\\local\\programs\\python\\python312\\lib\\site-packages (3.10.5)\n",
      "Requirement already satisfied: contourpy>=1.0.1 in c:\\users\\cacet\\appdata\\local\\programs\\python\\python312\\lib\\site-packages (from matplotlib) (1.2.0)\n",
      "Requirement already satisfied: cycler>=0.10 in c:\\users\\cacet\\appdata\\local\\programs\\python\\python312\\lib\\site-packages (from matplotlib) (0.12.1)\n",
      "Requirement already satisfied: fonttools>=4.22.0 in c:\\users\\cacet\\appdata\\local\\programs\\python\\python312\\lib\\site-packages (from matplotlib) (4.45.1)\n",
      "Requirement already satisfied: kiwisolver>=1.3.1 in c:\\users\\cacet\\appdata\\local\\programs\\python\\python312\\lib\\site-packages (from matplotlib) (1.4.5)\n",
      "Requirement already satisfied: packaging>=20.0 in c:\\users\\cacet\\appdata\\local\\programs\\python\\python312\\lib\\site-packages (from matplotlib) (23.2)\n",
      "Requirement already satisfied: pillow>=8 in c:\\users\\cacet\\appdata\\local\\programs\\python\\python312\\lib\\site-packages (from matplotlib) (10.1.0)\n",
      "Requirement already satisfied: pyparsing>=2.3.1 in c:\\users\\cacet\\appdata\\local\\programs\\python\\python312\\lib\\site-packages (from matplotlib) (3.1.1)\n",
      "Requirement already satisfied: python-dateutil>=2.7 in c:\\users\\cacet\\appdata\\local\\programs\\python\\python312\\lib\\site-packages (from matplotlib) (2.8.2)\n",
      "Requirement already satisfied: six>=1.5 in c:\\users\\cacet\\appdata\\local\\programs\\python\\python312\\lib\\site-packages (from python-dateutil>=2.7->matplotlib) (1.16.0)\n",
      "Note: you may need to restart the kernel to use updated packages.\n"
     ]
    },
    {
     "name": "stderr",
     "output_type": "stream",
     "text": [
      "\n",
      "[notice] A new release of pip is available: 23.2.1 -> 25.2\n",
      "[notice] To update, run: python.exe -m pip install --upgrade pip\n"
     ]
    }
   ],
   "source": [
    "pip install \"numpy<2\" matplotlib --user --upgrade\n"
   ]
  },
  {
   "cell_type": "code",
   "execution_count": 4,
   "id": "a6ef8904",
   "metadata": {},
   "outputs": [],
   "source": [
    "import matplotlib.pyplot as plt\n",
    "import numpy as np"
   ]
  },
  {
   "cell_type": "code",
   "execution_count": 8,
   "id": "b278fac3",
   "metadata": {},
   "outputs": [
    {
     "data": {
      "text/plain": [
       "[<matplotlib.lines.Line2D at 0x1c730f6eb10>]"
      ]
     },
     "execution_count": 8,
     "metadata": {},
     "output_type": "execute_result"
    },
    {
     "data": {
      "image/png": "[encoded data removed]",
      "text/plain": [
       "<Figure size 640x480 with 1 Axes>"
      ]
     },
     "metadata": {},
     "output_type": "display_data"
    }
   ],
   "source": [
    "rows=np.array([1, 2, 3, 4, 5])\n",
    "cols=np.array([1, 2, 3, 4, 5])\n",
    "\n",
    "plt.plot(rows,cols, marker='o' ,mfc=\"green\", color='red', mec=\"blue\",label='Data Points',ms=10)"
   ]
  },
  {
   "cell_type": "code",
   "execution_count": null,
   "id": "81d30878",
   "metadata": {},
   "outputs": [
    {
     "name": "stdout",
     "output_type": "stream",
     "text": [
      "Dot Product of the two matrices:\n",
      " [[32  9 15]\n",
      " [10 23 30]\n",
      " [ 7  6 31]]\n",
      "Transposed matrix 1:\n",
      " [[4 0 1]\n",
      " [2 5 0]\n",
      " [1 3 6]]\n",
      "Transposed matrix 2:\n",
      " [[7 2 0]\n",
      " [0 4 1]\n",
      " [1 3 5]]\n",
      "Trace of matrix 1: 15\n",
      "Trace of matrix 2: 16\n",
      "Rank of matrix 1: 3\n",
      "Rank of matrix 2: 3\n",
      "Determinant of matrix 1: 121.00000000000003\n",
      "Determinant of matrix 2: 121.00000000000003\n",
      "Inverse of matrix 1:\n",
      " [[ 0.24793388 -0.09917355  0.00826446]\n",
      " [ 0.02479339  0.19008264 -0.09917355]\n",
      " [-0.04132231  0.01652893  0.16528926]]\n",
      "Inverse of matrix 2:\n",
      " [[ 0.14049587  0.00826446 -0.03305785]\n",
      " [-0.08264463  0.2892562  -0.15702479]\n",
      " [ 0.01652893 -0.05785124  0.23140496]]\n",
      "Eigenvalues of matrix 1:\n",
      " [3.91000946+1.25069505j 3.91000946-1.25069505j 7.17998107+0.j        ]\n",
      "Eigenvalues of matrix 2:\n",
      " [2.83575206 7.39138238 5.77286556]\n",
      "Eigenvectors of matrix 1:\n",
      " [[-0.76254081+0.j         -0.76254081-0.j         -0.56995483+0.j        ]\n",
      " [-0.10001352-0.55723551j -0.10001352+0.55723551j -0.66471262+0.j        ]\n",
      " [ 0.26864849+0.16076501j  0.26864849-0.16076501j -0.48302031+0.j        ]]\n",
      "Eigenvectors of matrix 2:\n",
      " [[-0.10021797  0.7020054  -0.54190073]\n",
      " [-0.90321092  0.6570384   0.51394404]\n",
      " [ 0.41733246  0.27475255  0.66498505]]\n"
     ]
    }
   ],
   "source": [
    "\n",
    "matrix1 = np.array([[4, 2, 1], [0, 5, 3], [1, 0, 6]])\n",
    "matrix2 = np.array([[7, 0, 1], [2, 4, 3], [0, 1, 5]])\n",
    "\n",
    "print(\"Dot Product of the two matrices:\\n\", np.dot(matrix1, matrix2))\n",
    "print(\"Transposed matrix 1:\\n\", np.transpose(matrix1))\n",
    "print(\"Transposed matrix 2:\\n\", np.transpose(matrix2))\n",
    "print(\"Trace of matrix 1:\", np.trace(matrix1))\n",
    "print(\"Trace of matrix 2:\", np.trace(matrix2))\n",
    "print(\"Rank of matrix 1:\", np.linalg.matrix_rank(matrix1))\n",
    "print(\"Rank of matrix 2:\", np.linalg.matrix_rank(matrix2))\n",
    "print(\"Determinant of matrix 1:\", np.linalg.det(matrix1))\n",
    "print(\"Determinant of matrix 2:\", np.linalg.det(matrix2))\n",
    "print(\"Inverse of matrix 1:\\n\", np.linalg.inv(matrix1))\n",
    "print(\"Inverse of matrix 2:\\n\", np.linalg.inv(matrix2))\n",
    "print(\"Eigenvalues of matrix 1:\\n\", np.linalg.eigvals(matrix1))\n",
    "print(\"Eigenvalues of matrix 2:\\n\", np.linalg.eigvals(matrix2))\n",
    "print(\"Eigenvectors of matrix 1:\\n\", np.linalg.eig(matrix1)[1])\n",
    "print(\"Eigenvectors of matrix 2:\\n\", np.linalg.eig(matrix2)[1])"
   ]
  }
 ],
 "metadata": {
  "kernelspec": {
   "display_name": "Python 3",
   "language": "python",
   "name": "python3"
  },
  "language_info": {
   "codemirror_mode": {
    "name": "ipython",
    "version": 3
   },
   "file_extension": ".py",
   "mimetype": "text/x-python",
   "name": "python",
   "nbconvert_exporter": "python",
   "pygments_lexer": "ipython3",
   "version": "3.12.0"
  }
 },
 "nbformat": 4,
 "nbformat_minor": 5
}
